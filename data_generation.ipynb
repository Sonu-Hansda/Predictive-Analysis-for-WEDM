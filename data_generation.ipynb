{
 "cells": [
  {
   "cell_type": "code",
   "execution_count": 2,
   "metadata": {},
   "outputs": [],
   "source": [
    "import numpy as np\n",
    "import pandas as pd"
   ]
  },
  {
   "cell_type": "code",
   "execution_count": null,
   "metadata": {},
   "outputs": [],
   "source": [
    "param_ranges = {\n",
    "    'Ton':  (0.4, 1.4),    # Pulse on time (µs)\n",
    "    'Toff': (14, 46),      # Pulse off time (µs)\n",
    "    'IP':   (70, 210),     # Peak current (A)\n",
    "    'SV':   (16, 80),      # Servo voltage (V)\n",
    "    'WF':   (2, 12),       # Wire feed rate (m/min)\n",
    "    'WT':   (450, 1600),   # Wire tension (g)\n",
    "}\n",
    "\n",
    "n_samples = 1000\n",
    "\n",
    "rng = np.random.default_rng(42)\n",
    "\n",
    "data = {name: rng.uniform(low, high, n_samples)\n",
    "        for name, (low, high) in param_ranges.items()}\n",
    "\n",
    "\n",
    "CR_base = (\n",
    "    0.6*data['Ton']       # strong positive\n",
    "  + 0.012*data['IP']      # moderate positive\n",
    "  - 0.0025*data['Toff']   # moderate negative\n",
    "  + 0.0008*data['WF']     # small positive\n",
    "  + 0.0004*data['WT']     # very small positive\n",
    ")\n",
    "\n",
    "SR_base = (\n",
    "    0.35*data['Ton']      # moderate positive\n",
    "  + 0.006*data['IP']      # small positive\n",
    "  - 0.0012*data['SV']     # small negative\n",
    ")\n",
    "\n",
    "# 4. Add Gaussian noise (~10% of each response’s std dev)\n",
    "noise_cr = rng.normal(0, 0.1 * np.std(CR_base), n_samples)\n",
    "noise_sr = rng.normal(0, 0.1 * np.std(SR_base), n_samples)\n",
    "\n",
    "data['CR'] = CR_base + noise_cr\n",
    "data['SR'] = SR_base + noise_sr"
   ]
  },
  {
   "cell_type": "code",
   "execution_count": 4,
   "metadata": {},
   "outputs": [
    {
     "name": "stdout",
     "output_type": "stream",
     "text": [
      "        Ton       Toff          IP         SV         WF           WT  \\\n",
      "0  1.173956  15.986019  187.982476  69.070153   9.161000   700.871562   \n",
      "1  0.838878  28.664385  132.494529  54.022143   5.571156  1212.366856   \n",
      "2  1.258598  18.128962  203.416523  31.670704  10.518679  1331.890748   \n",
      "3  1.097368  18.874455  161.111243  63.723200   4.409772   641.631564   \n",
      "4  0.494177  34.233050   86.225841  21.406777   7.383935   500.437026   \n",
      "\n",
      "         CR        SR  \n",
      "0  3.152261  1.496678  \n",
      "1  2.536888  1.025760  \n",
      "2  3.659424  1.615378  \n",
      "3  2.716309  1.286968  \n",
      "4  1.436298  0.649183  \n",
      "               Ton         Toff           IP           SV           WF  \\\n",
      "count  1000.000000  1000.000000  1000.000000  1000.000000  1000.000000   \n",
      "mean      0.897178    30.271859   139.002283    47.588622     6.859427   \n",
      "std       0.291586     9.258965    40.540003    18.577673     2.818608   \n",
      "min       0.401233    14.016600    70.138599    16.041107     2.009261   \n",
      "25%       0.640259    21.984195   104.262279    31.852363     4.423414   \n",
      "50%       0.894824    29.888127   139.362228    47.647216     6.790658   \n",
      "75%       1.158893    38.417707   174.428649    63.704296     9.260666   \n",
      "max       1.399105    45.981501   209.967147    79.962171    11.997149   \n",
      "\n",
      "                WT           CR           SR  \n",
      "count  1000.000000  1000.000000  1000.000000  \n",
      "mean   1013.976775     2.543500     1.090036  \n",
      "std     330.245113     0.541464     0.264809  \n",
      "min     450.361583     1.316570     0.534109  \n",
      "25%     726.828672     2.135282     0.876995  \n",
      "50%    1016.782779     2.534236     1.082562  \n",
      "75%    1301.689928     2.967483     1.290954  \n",
      "max    1598.725281     3.834715     1.699747  \n"
     ]
    }
   ],
   "source": [
    "# 5. Assemble into a DataFrame and save\n",
    "df = pd.DataFrame(data)\n",
    "df.to_csv('synthetic_wedm_data.csv', index=False)\n",
    "\n",
    "# 6. Quick peek\n",
    "print(df.head())\n",
    "print(df.describe())"
   ]
  },
  {
   "cell_type": "code",
   "execution_count": null,
   "metadata": {},
   "outputs": [],
   "source": []
  }
 ],
 "metadata": {
  "kernelspec": {
   "display_name": "venv",
   "language": "python",
   "name": "python3"
  },
  "language_info": {
   "codemirror_mode": {
    "name": "ipython",
    "version": 3
   },
   "file_extension": ".py",
   "mimetype": "text/x-python",
   "name": "python",
   "nbconvert_exporter": "python",
   "pygments_lexer": "ipython3",
   "version": "3.12.1"
  }
 },
 "nbformat": 4,
 "nbformat_minor": 2
}
